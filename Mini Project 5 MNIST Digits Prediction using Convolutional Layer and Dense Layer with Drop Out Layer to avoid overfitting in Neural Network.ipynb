{
 "cells": [
  {
   "cell_type": "code",
   "execution_count": 1,
   "id": "d269fdaa",
   "metadata": {},
   "outputs": [
    {
     "name": "stderr",
     "output_type": "stream",
     "text": [
      "C:\\Users\\SWAPNIL DHIMAN\\.conda\\envs\\gputest\\lib\\site-packages\\tensorflow\\python\\framework\\dtypes.py:523: FutureWarning: Passing (type, 1) or '1type' as a synonym of type is deprecated; in a future version of numpy, it will be understood as (type, (1,)) / '(1,)type'.\n",
      "  _np_qint8 = np.dtype([(\"qint8\", np.int8, 1)])\n",
      "C:\\Users\\SWAPNIL DHIMAN\\.conda\\envs\\gputest\\lib\\site-packages\\tensorflow\\python\\framework\\dtypes.py:524: FutureWarning: Passing (type, 1) or '1type' as a synonym of type is deprecated; in a future version of numpy, it will be understood as (type, (1,)) / '(1,)type'.\n",
      "  _np_quint8 = np.dtype([(\"quint8\", np.uint8, 1)])\n",
      "C:\\Users\\SWAPNIL DHIMAN\\.conda\\envs\\gputest\\lib\\site-packages\\tensorflow\\python\\framework\\dtypes.py:525: FutureWarning: Passing (type, 1) or '1type' as a synonym of type is deprecated; in a future version of numpy, it will be understood as (type, (1,)) / '(1,)type'.\n",
      "  _np_qint16 = np.dtype([(\"qint16\", np.int16, 1)])\n",
      "C:\\Users\\SWAPNIL DHIMAN\\.conda\\envs\\gputest\\lib\\site-packages\\tensorflow\\python\\framework\\dtypes.py:526: FutureWarning: Passing (type, 1) or '1type' as a synonym of type is deprecated; in a future version of numpy, it will be understood as (type, (1,)) / '(1,)type'.\n",
      "  _np_quint16 = np.dtype([(\"quint16\", np.uint16, 1)])\n",
      "C:\\Users\\SWAPNIL DHIMAN\\.conda\\envs\\gputest\\lib\\site-packages\\tensorflow\\python\\framework\\dtypes.py:527: FutureWarning: Passing (type, 1) or '1type' as a synonym of type is deprecated; in a future version of numpy, it will be understood as (type, (1,)) / '(1,)type'.\n",
      "  _np_qint32 = np.dtype([(\"qint32\", np.int32, 1)])\n",
      "C:\\Users\\SWAPNIL DHIMAN\\.conda\\envs\\gputest\\lib\\site-packages\\tensorflow\\python\\framework\\dtypes.py:532: FutureWarning: Passing (type, 1) or '1type' as a synonym of type is deprecated; in a future version of numpy, it will be understood as (type, (1,)) / '(1,)type'.\n",
      "  np_resource = np.dtype([(\"resource\", np.ubyte, 1)])\n",
      "C:\\Users\\SWAPNIL DHIMAN\\.conda\\envs\\gputest\\lib\\site-packages\\tensorboard\\compat\\tensorflow_stub\\dtypes.py:541: FutureWarning: Passing (type, 1) or '1type' as a synonym of type is deprecated; in a future version of numpy, it will be understood as (type, (1,)) / '(1,)type'.\n",
      "  _np_qint8 = np.dtype([(\"qint8\", np.int8, 1)])\n",
      "C:\\Users\\SWAPNIL DHIMAN\\.conda\\envs\\gputest\\lib\\site-packages\\tensorboard\\compat\\tensorflow_stub\\dtypes.py:542: FutureWarning: Passing (type, 1) or '1type' as a synonym of type is deprecated; in a future version of numpy, it will be understood as (type, (1,)) / '(1,)type'.\n",
      "  _np_quint8 = np.dtype([(\"quint8\", np.uint8, 1)])\n",
      "C:\\Users\\SWAPNIL DHIMAN\\.conda\\envs\\gputest\\lib\\site-packages\\tensorboard\\compat\\tensorflow_stub\\dtypes.py:543: FutureWarning: Passing (type, 1) or '1type' as a synonym of type is deprecated; in a future version of numpy, it will be understood as (type, (1,)) / '(1,)type'.\n",
      "  _np_qint16 = np.dtype([(\"qint16\", np.int16, 1)])\n",
      "C:\\Users\\SWAPNIL DHIMAN\\.conda\\envs\\gputest\\lib\\site-packages\\tensorboard\\compat\\tensorflow_stub\\dtypes.py:544: FutureWarning: Passing (type, 1) or '1type' as a synonym of type is deprecated; in a future version of numpy, it will be understood as (type, (1,)) / '(1,)type'.\n",
      "  _np_quint16 = np.dtype([(\"quint16\", np.uint16, 1)])\n",
      "C:\\Users\\SWAPNIL DHIMAN\\.conda\\envs\\gputest\\lib\\site-packages\\tensorboard\\compat\\tensorflow_stub\\dtypes.py:545: FutureWarning: Passing (type, 1) or '1type' as a synonym of type is deprecated; in a future version of numpy, it will be understood as (type, (1,)) / '(1,)type'.\n",
      "  _np_qint32 = np.dtype([(\"qint32\", np.int32, 1)])\n",
      "C:\\Users\\SWAPNIL DHIMAN\\.conda\\envs\\gputest\\lib\\site-packages\\tensorboard\\compat\\tensorflow_stub\\dtypes.py:550: FutureWarning: Passing (type, 1) or '1type' as a synonym of type is deprecated; in a future version of numpy, it will be understood as (type, (1,)) / '(1,)type'.\n",
      "  np_resource = np.dtype([(\"resource\", np.ubyte, 1)])\n"
     ]
    }
   ],
   "source": [
    "import tensorflow as tf\n",
    "tf.compat.v1.disable_eager_execution()"
   ]
  },
  {
   "cell_type": "code",
   "execution_count": 2,
   "id": "344f3571",
   "metadata": {},
   "outputs": [],
   "source": [
    "import numpy as np"
   ]
  },
  {
   "cell_type": "code",
   "execution_count": 3,
   "id": "bd3e4143",
   "metadata": {},
   "outputs": [],
   "source": [
    "mnist = tf.keras.datasets.mnist"
   ]
  },
  {
   "cell_type": "code",
   "execution_count": 4,
   "id": "e3722fa3",
   "metadata": {},
   "outputs": [],
   "source": [
    "(x_train, y_train), (x_test, y_test) = mnist.load_data()"
   ]
  },
  {
   "cell_type": "code",
   "execution_count": 5,
   "id": "da6a6921",
   "metadata": {},
   "outputs": [],
   "source": [
    "x_train=np.array(x_train)\n",
    "y_train=np.array(y_train)\n",
    "x_test=np.array(x_test)\n",
    "y_test=np.array(y_test)"
   ]
  },
  {
   "cell_type": "code",
   "execution_count": 6,
   "id": "2412ee61",
   "metadata": {},
   "outputs": [],
   "source": [
    "import numpy as np\n",
    "from matplotlib import pyplot as plt"
   ]
  },
  {
   "cell_type": "code",
   "execution_count": 12,
   "id": "87b99f1c",
   "metadata": {},
   "outputs": [
    {
     "data": {
      "image/png": "[encoded data removed]",
      "text/plain": [
       "<Figure size 432x288 with 1 Axes>"
      ]
     },
     "metadata": {
      "needs_background": "light"
     },
     "output_type": "display_data"
    }
   ],
   "source": [
    "first_image = x_train[13]\n",
    "first_image = np.array(first_image, dtype='float')\n",
    "first_image = first_image.reshape((28,28))\n",
    "plt.imshow(first_image)\n",
    "plt.show()"
   ]
  },
  {
   "cell_type": "code",
   "execution_count": 13,
   "id": "ef0f29ed",
   "metadata": {},
   "outputs": [],
   "source": [
    "def one_hot(a, num_classes):\n",
    "  return np.squeeze(np.eye(num_classes)[a.reshape(-1)])"
   ]
  },
  {
   "cell_type": "code",
   "execution_count": 14,
   "id": "346e3302",
   "metadata": {},
   "outputs": [],
   "source": [
    "y_train=one_hot(y_train,10)\n",
    "y_test=one_hot(y_test,10)"
   ]
  },
  {
   "cell_type": "code",
   "execution_count": 15,
   "id": "7815cc60",
   "metadata": {},
   "outputs": [
    {
     "data": {
      "text/plain": [
       "(60000, 10)"
      ]
     },
     "execution_count": 15,
     "metadata": {},
     "output_type": "execute_result"
    }
   ],
   "source": [
    "y_train.shape"
   ]
  },
  {
   "cell_type": "code",
   "execution_count": 16,
   "id": "5b7a7be8",
   "metadata": {},
   "outputs": [
    {
     "data": {
      "text/plain": [
       "(60000, 28, 28)"
      ]
     },
     "execution_count": 16,
     "metadata": {},
     "output_type": "execute_result"
    }
   ],
   "source": [
    "x_train.shape"
   ]
  },
  {
   "cell_type": "code",
   "execution_count": 17,
   "id": "75e73c8a",
   "metadata": {},
   "outputs": [],
   "source": [
    "input_width = 28\n",
    "input_height = 28\n",
    "input_channels = 1\n",
    "input_pixels = 784\n",
    "\n",
    "n_conv1 = 32\n",
    "n_conv2 = 64\n",
    "stride_conv1 = 1\n",
    "stride_conv2 = 1\n",
    "conv1_k = 5\n",
    "conv2_k = 5\n",
    "max_pool1_k = 2\n",
    "max_pool2_k = 2\n",
    "\n",
    "n_hidden = 1024\n",
    "n_out = 10\n",
    "\n",
    "input_size_to_hidden = (input_width//(max_pool1_k*max_pool2_k)) * (input_height//(max_pool1_k*max_pool2_k)) *n_conv2"
   ]
  },
  {
   "cell_type": "code",
   "execution_count": 18,
   "id": "da109c65",
   "metadata": {},
   "outputs": [],
   "source": [
    "weights = {\n",
    "    \"wc1\" : tf.Variable(tf.random.normal([conv1_k, conv1_k, input_channels, n_conv1])),\n",
    "    \"wc2\" : tf.Variable(tf.random.normal([conv2_k, conv2_k, n_conv1, n_conv2])),\n",
    "    \"wh1\" : tf.Variable(tf.random.normal([input_size_to_hidden, n_hidden])),\n",
    "    \"wo\" : tf.Variable(tf.random.normal([n_hidden, n_out]))\n",
    "}\n",
    "\n",
    "biases = {\n",
    "    \"bc1\" : tf.Variable(tf.random.normal([n_conv1])),\n",
    "    \"bc2\" : tf.Variable(tf.random.normal([n_conv2])),\n",
    "    \"bh1\" : tf.Variable(tf.random.normal([n_hidden])),\n",
    "    \"bo\" : tf.Variable(tf.random.normal([n_out])),\n",
    "}"
   ]
  },
  {
   "cell_type": "code",
   "execution_count": 19,
   "id": "f132e222",
   "metadata": {},
   "outputs": [],
   "source": [
    "def conv(x, weights, bias, strides = 1):\n",
    "    out = tf.nn.conv2d(x, weights, padding=\"SAME\", strides = [1, strides, strides, 1])\n",
    "    out = tf.nn.bias_add(out, bias)\n",
    "    out = tf.nn.relu(out)\n",
    "    return out\n",
    "\n",
    "def maxpooling(x, k = 2):\n",
    "    return tf.nn.max_pool(x, padding = \"SAME\", ksize = [1, k, k, 1], strides = [1, k, k, 1])"
   ]
  },
  {
   "cell_type": "code",
   "execution_count": 20,
   "id": "c0830e2b",
   "metadata": {},
   "outputs": [],
   "source": [
    "def cnn(x, weights, biases, keep_prob):\n",
    "    x = tf.reshape(x, shape = [-1 ,input_height, input_width, input_channels])\n",
    "    conv1 = conv(x, weights['wc1'], biases['bc1'], stride_conv1)\n",
    "    conv1_pool = maxpooling(conv1, max_pool1_k)\n",
    "    \n",
    "    conv2 = conv(conv1_pool, weights['wc2'], biases['bc2'], stride_conv2)\n",
    "    conv2_pool = maxpooling(conv2, max_pool2_k)\n",
    "    \n",
    "     \n",
    "    hidden_input = tf.reshape(conv2_pool, shape = [-1, input_size_to_hidden])\n",
    "    hidden_output_before_activation = tf.add(tf.matmul(hidden_input, weights['wh1']), biases['bh1'])\n",
    "    hidden_output_before_dropout = tf.nn.relu(hidden_output_before_activation)\n",
    "    \n",
    "    #dropout layer is used before hidden to avoid overfitting\n",
    "  \n",
    "    hidden_output = tf.nn.dropout(hidden_output_before_dropout, keep_prob) \n",
    "   \n",
    "    output = tf.add(tf.matmul(hidden_output, weights['wo']), biases['bo'])\n",
    "    return output"
   ]
  },
  {
   "cell_type": "code",
   "execution_count": 21,
   "id": "fefafc1b",
   "metadata": {},
   "outputs": [],
   "source": [
    "x = tf.compat.v1.placeholder(\"float\", [None, input_pixels])\n",
    "y = tf.compat.v1.placeholder(tf.int32, [None, n_out])\n",
    "keep_prob = tf.compat.v1.placeholder(\"float\")\n",
    "pred = cnn(x, weights, biases, keep_prob)"
   ]
  },
  {
   "cell_type": "code",
   "execution_count": 22,
   "id": "a6ca8546",
   "metadata": {},
   "outputs": [],
   "source": [
    "cost = tf.reduce_mean(tf.compat.v1.nn.softmax_cross_entropy_with_logits_v2(logits=pred, labels = y))"
   ]
  },
  {
   "cell_type": "code",
   "execution_count": 23,
   "id": "8c137037",
   "metadata": {},
   "outputs": [
    {
     "name": "stdout",
     "output_type": "stream",
     "text": [
      "WARNING:tensorflow:From C:\\Users\\SWAPNIL DHIMAN\\.conda\\envs\\gputest\\lib\\site-packages\\tensorflow\\python\\training\\slot_creator.py:187: calling Zeros.__init__ (from tensorflow.python.ops.init_ops) with dtype is deprecated and will be removed in a future version.\n",
      "Instructions for updating:\n",
      "Call initializer instance with the dtype argument instead of passing it to the constructor\n"
     ]
    }
   ],
   "source": [
    "optimizer = tf.compat.v1.train.AdamOptimizer(learning_rate=0.01)\n",
    "optimize = optimizer.minimize(cost)"
   ]
  },
  {
   "cell_type": "code",
   "execution_count": 24,
   "id": "f28b4347",
   "metadata": {},
   "outputs": [],
   "source": [
    "sess = tf.compat.v1.Session()\n",
    "sess.run(tf.compat.v1.global_variables_initializer())"
   ]
  },
  {
   "cell_type": "code",
   "execution_count": 25,
   "id": "e6c649bf",
   "metadata": {
    "scrolled": false
   },
   "outputs": [
    {
     "name": "stdout",
     "output_type": "stream",
     "text": [
      "41418716.0\n",
      "28261492.0\n",
      "17934548.0\n",
      "10523360.0\n",
      "7065491.0\n",
      "5274231.5\n",
      "3893043.0\n",
      "2807643.5\n",
      "2279774.2\n",
      "1931276.5\n",
      "1642064.8\n",
      "1371788.2\n",
      "1157031.0\n",
      "989776.9\n",
      "863652.9\n",
      "770108.2\n",
      "690382.9\n",
      "598587.5\n",
      "532424.94\n",
      "481951.7\n",
      "425398.9\n",
      "387334.0\n",
      "366647.53\n",
      "339075.34\n",
      "315817.47\n",
      "290555.7\n",
      "274473.9\n",
      "254741.7\n",
      "241559.75\n",
      "227473.2\n",
      "216608.88\n",
      "203790.34\n",
      "198409.62\n",
      "185314.78\n",
      "174181.5\n",
      "166940.94\n",
      "158093.72\n",
      "154005.08\n",
      "144614.23\n",
      "138032.52\n",
      "136402.03\n",
      "129464.016\n",
      "124499.64\n",
      "117410.84\n",
      "116476.3\n",
      "109909.3\n",
      "107103.12\n",
      "104932.18\n",
      "98184.38\n",
      "95021.7\n",
      "92513.84\n",
      "89315.305\n",
      "86099.73\n",
      "84445.08\n",
      "81631.8\n",
      "78453.266\n",
      "76010.14\n",
      "72681.45\n",
      "70791.27\n",
      "68893.945\n",
      "66639.88\n",
      "64071.484\n",
      "61597.336\n",
      "60379.285\n",
      "59580.61\n",
      "56747.14\n",
      "54471.383\n",
      "53118.61\n",
      "51556.07\n",
      "48567.246\n",
      "46372.645\n",
      "45860.15\n",
      "43152.027\n",
      "42082.79\n",
      "39286.61\n",
      "38302.977\n",
      "35651.293\n",
      "33833.438\n",
      "32874.625\n",
      "30277.436\n",
      "26927.617\n",
      "25731.137\n",
      "23582.533\n",
      "21246.955\n",
      "19433.43\n",
      "16801.723\n",
      "15534.594\n",
      "13503.352\n",
      "11488.123\n",
      "9587.247\n",
      "8509.441\n",
      "6436.4204\n",
      "5814.452\n",
      "4333.788\n",
      "3422.9922\n",
      "2721.9604\n",
      "2114.1462\n",
      "1619.5963\n",
      "1328.4307\n",
      "1100.1956\n",
      "800.3488\n",
      "591.03015\n",
      "568.86487\n",
      "411.6463\n",
      "332.32068\n",
      "343.3793\n",
      "239.30098\n",
      "166.6886\n",
      "148.77007\n",
      "90.6837\n",
      "165.01903\n",
      "90.89451\n",
      "85.47138\n",
      "91.463745\n",
      "60.256325\n",
      "38.44279\n",
      "58.212383\n",
      "43.509766\n",
      "89.182465\n",
      "38.443542\n",
      "40.571846\n",
      "26.574009\n",
      "31.651066\n",
      "30.73205\n",
      "47.420383\n",
      "18.041256\n",
      "30.165493\n",
      "12.931823\n",
      "21.838192\n",
      "18.203854\n",
      "38.88632\n",
      "8.338363\n",
      "26.515612\n",
      "14.960487\n",
      "18.614767\n",
      "7.336445\n",
      "32.419308\n",
      "5.6645117\n",
      "10.452806\n",
      "7.5215054\n",
      "11.555113\n",
      "5.7731047\n",
      "17.277435\n",
      "5.349412\n",
      "14.667702\n",
      "13.616416\n",
      "8.292951\n",
      "6.4591928\n",
      "4.2185864\n",
      "7.372797\n",
      "14.755519\n",
      "7.1895967\n",
      "3.857574\n",
      "7.284458\n",
      "7.07703\n",
      "7.0521092\n",
      "6.065847\n",
      "4.222939\n",
      "4.010059\n",
      "7.138176\n",
      "5.8170757\n",
      "6.3513517\n",
      "8.571542\n",
      "6.502126\n",
      "4.2244234\n",
      "4.2485857\n",
      "6.3718495\n",
      "5.884325\n",
      "4.621183\n",
      "3.225931\n",
      "4.189506\n",
      "8.704309\n",
      "6.6559563\n",
      "3.3090522\n",
      "3.0617177\n",
      "3.5041358\n",
      "3.3828406\n",
      "3.696904\n",
      "3.5368829\n",
      "4.4354978\n",
      "4.774082\n",
      "3.1484194\n",
      "3.27222\n",
      "5.04124\n",
      "3.244704\n",
      "6.264146\n",
      "3.9942875\n",
      "5.701999\n",
      "2.8507864\n",
      "5.2676296\n",
      "4.614002\n",
      "5.909695\n",
      "2.918167\n",
      "4.2344346\n",
      "5.8684907\n",
      "4.6164265\n",
      "2.5877614\n",
      "4.443353\n",
      "5.536682\n",
      "4.6203384\n"
     ]
    }
   ],
   "source": [
    "x_train=np.reshape(x_train, (x_train.shape[0],(x_train.shape[1]* x_train.shape[2])))\n",
    "\n",
    "for i in range(200):\n",
    "    c, _ = sess.run([cost,optimize], feed_dict={x:x_train , y:y_train, keep_prob:0.8})\n",
    "    #keep_prob is used as regularization factor\n",
    "    print(c)"
   ]
  },
  {
   "cell_type": "code",
   "execution_count": null,
   "id": "7f868269",
   "metadata": {},
   "outputs": [],
   "source": []
  }
 ],
 "metadata": {
  "kernelspec": {
   "display_name": "Python [conda env:.conda-gputest]",
   "language": "python",
   "name": "conda-env-.conda-gputest-py"
  },
  "language_info": {
   "codemirror_mode": {
    "name": "ipython",
    "version": 3
   },
   "file_extension": ".py",
   "mimetype": "text/x-python",
   "name": "python",
   "nbconvert_exporter": "python",
   "pygments_lexer": "ipython3",
   "version": "3.7.5"
  }
 },
 "nbformat": 4,
 "nbformat_minor": 5
}
